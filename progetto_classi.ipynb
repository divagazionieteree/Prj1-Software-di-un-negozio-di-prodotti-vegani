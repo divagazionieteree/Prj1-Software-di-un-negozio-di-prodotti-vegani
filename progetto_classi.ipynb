{
 "cells": [
  {
   "cell_type": "markdown",
   "metadata": {},
   "source": [
    "Software gestionale per negozio di prodotti vegani"
   ]
  },
  {
   "cell_type": "markdown",
   "metadata": {},
   "source": [
    "import class and libraries"
   ]
  },
  {
   "cell_type": "code",
   "execution_count": 1,
   "metadata": {},
   "outputs": [],
   "source": [
    "import json as json\n",
    "from prj_class import CommandsCRM\n",
    "from datetime import datetime"
   ]
  },
  {
   "cell_type": "markdown",
   "metadata": {},
   "source": [
    "Read .json files or create if there aren't in the project folder "
   ]
  },
  {
   "cell_type": "code",
   "execution_count": 3,
   "metadata": {},
   "outputs": [],
   "source": [
    "wharehouse_json = \"wharehouse.json\"\n",
    "sales_json = \"sales.json\"\n",
    "\n",
    "try:\n",
    "  with open(wharehouse_json, \"r\") as json_file:\n",
    "    wharehouse_dict = json.load(json_file)\n",
    "except:\n",
    "  open(wharehouse_json, \"x\")\n",
    "  wharehouse_dict = []\n",
    "  \n",
    "try:\n",
    "  with open(sales_json, \"r\") as json_file:\n",
    "    sales_dict = json.load(json_file)\n",
    "except:\n",
    "  open(sales_json, \"x\")\n",
    "  sales_dict = []\n"
   ]
  },
  {
   "cell_type": "markdown",
   "metadata": {},
   "source": [
    "Collection of functions to be used in the project"
   ]
  },
  {
   "cell_type": "markdown",
   "metadata": {},
   "source": [
    "Project to run "
   ]
  },
  {
   "cell_type": "code",
   "execution_count": 5,
   "metadata": {},
   "outputs": [
    {
     "name": "stdout",
     "output_type": "stream",
     "text": [
      "AGGIUNTO 2 X tofu\n",
      "{'product_name': 'tofu', 'quantity': 16, 'purchase_prize': 2.0, 'sale_prize': 3.0}\n",
      "{'product_name': 'soia', 'quantity': 15, 'purchase_prize': 3.0, 'sale_prize': 4.0}\n",
      "AGGIUNTO 3 X soia\n",
      "{'product_name': 'tofu', 'quantity': 16, 'purchase_prize': 2.0, 'sale_prize': 3.0}\n",
      "{'product_name': 'soia', 'quantity': 18, 'purchase_prize': 3.0, 'sale_prize': 4.0}\n",
      "{'product_name': 'tofu', 'quantity': 16, 'purchase_prize': 2.0, 'sale_prize': 3.0}\n",
      "{'product_name': 'soia', 'quantity': 14, 'purchase_prize': 3.0, 'sale_prize': 4.0}\n",
      "Il fatturato totale è: 45.0\n",
      "Il margine totale è: 12.0\n"
     ]
    },
    {
     "ename": "TypeError",
     "evalue": "CommandsCRM.chiudi() takes 2 positional arguments but 4 were given",
     "output_type": "error",
     "traceback": [
      "\u001b[1;31m---------------------------------------------------------------------------\u001b[0m",
      "\u001b[1;31mTypeError\u001b[0m                                 Traceback (most recent call last)",
      "Cell \u001b[1;32mIn[5], line 78\u001b[0m\n\u001b[0;32m     74\u001b[0m   CommandsCRM\u001b[38;5;241m.\u001b[39maiuto()\n\u001b[0;32m     76\u001b[0m \u001b[38;5;28;01melif\u001b[39;00m cmd\u001b[38;5;241m==\u001b[39m\u001b[38;5;124m\"\u001b[39m\u001b[38;5;124mchiudi\u001b[39m\u001b[38;5;124m\"\u001b[39m:\n\u001b[0;32m     77\u001b[0m   \u001b[38;5;66;03m# mostra i possibili comandi\u001b[39;00m\n\u001b[1;32m---> 78\u001b[0m   \u001b[43mCommandsCRM\u001b[49m\u001b[38;5;241;43m.\u001b[39;49m\u001b[43mchiudi\u001b[49m\u001b[43m(\u001b[49m\u001b[43mwharehouse_json\u001b[49m\u001b[43m,\u001b[49m\u001b[43m \u001b[49m\u001b[43msales_json\u001b[49m\u001b[43m,\u001b[49m\u001b[43m \u001b[49m\u001b[43mwharehouse_dict\u001b[49m\u001b[43m,\u001b[49m\u001b[43m \u001b[49m\u001b[43msales_dict\u001b[49m\u001b[43m)\u001b[49m\n\u001b[0;32m     79\u001b[0m   \u001b[38;5;28;01mbreak\u001b[39;00m\n\u001b[0;32m     81\u001b[0m \u001b[38;5;28;01melse\u001b[39;00m:\n\u001b[0;32m     82\u001b[0m   \u001b[38;5;66;03m# mostra messaggio di aiuto\u001b[39;00m\n",
      "\u001b[1;31mTypeError\u001b[0m: CommandsCRM.chiudi() takes 2 positional arguments but 4 were given"
     ]
    }
   ],
   "source": [
    "cmd = None\n",
    "\n",
    "while True:\n",
    "\n",
    "  cmd = input(\"Inserisci un comando: \")\n",
    "\n",
    "  if cmd==\"vendita\":\n",
    "    # registra una vendita\n",
    "    \n",
    "    inserting_continue = \"si\"\n",
    "    while inserting_continue == \"si\":\n",
    "      product_name = input(\"Prodotto da acquistare: \")\n",
    "    \n",
    "      quantity = None\n",
    "      while quantity is None:\n",
    "        try:\n",
    "          quantity = int(input(\"Quantità: \"))\n",
    "        except:\n",
    "          print(\"dato non valido\")\n",
    "    \n",
    "      CommandsCRM.vendita(product_name, quantity, sales_dict, wharehouse_dict)\n",
    "      inserting_continue = input(\"vuoi aggiungere un'altra vendita? si/no\")    \n",
    "      \n",
    "  elif cmd==\"profitti\":\n",
    "    # mostra profitti netti e lordi\n",
    "    \n",
    "    CommandsCRM.profitti(sales_dict)\n",
    "\n",
    "  elif cmd==\"aggiungi\":\n",
    "    # aggiungi un prodotto al magazzino\n",
    "    product_name = input(\"Nome del prodotto: \")\n",
    "    \n",
    "    quantity = None\n",
    "    while quantity is None:\n",
    "      try:\n",
    "        quantity = int(input(\"Quantità: \"))\n",
    "      except:\n",
    "        print(\"dato non valido\")\n",
    "    \n",
    "    is_product = 0\n",
    "    \n",
    "    for i, val in enumerate(wharehouse_dict):\n",
    "      if wharehouse_dict[i][\"product_name\"] == product_name:\n",
    "        is_product +=1\n",
    "        prod_index = i\n",
    "    \n",
    "    if is_product > 0:\n",
    "        wharehouse_dict[prod_index][\"quantity\"] += quantity\n",
    "        print(f\"AGGIUNTO {quantity} X {product_name}\")\n",
    "    else:\n",
    "        purchase_price = None\n",
    "        \n",
    "        while purchase_price is None:\n",
    "          try:\n",
    "            purchase_price = int(input(\"Prezzo di acquisto: \"))\n",
    "          except:\n",
    "            print(\"dato non valido\")\n",
    "        selling_price = None\n",
    "        \n",
    "        while selling_price is None:\n",
    "          try:\n",
    "            selling_price = int(input(\"Prezzo di vendita: \"))\n",
    "          except:\n",
    "            print(\"dato non valido\")\n",
    "       \n",
    "        CommandsCRM.aggiungi(product_name, quantity, purchase_price, selling_price, wharehouse_dict)\n",
    "\n",
    "  elif cmd==\"elenca\":\n",
    "    # elenca tutti i prodotti nel magazzino\n",
    "    CommandsCRM.elenca(wharehouse_dict)\n",
    "\n",
    "  elif cmd==\"aiuto\":\n",
    "    # mostra i possibili comandi\n",
    "    CommandsCRM.aiuto()\n",
    "\n",
    "  elif cmd==\"chiudi\":\n",
    "    # mostra i possibili comandi\n",
    "    CommandsCRM.chiudi(wharehouse_json, sales_json, wharehouse_dict, sales_dict)\n",
    "    break\n",
    "    \n",
    "  else:\n",
    "    # mostra messaggio di aiuto\n",
    "    print(\"comando non valido\")\n",
    "    CommandsCRM.aiuto()"
   ]
  }
 ],
 "metadata": {
  "kernelspec": {
   "display_name": "Python 3",
   "language": "python",
   "name": "python3"
  },
  "language_info": {
   "codemirror_mode": {
    "name": "ipython",
    "version": 3
   },
   "file_extension": ".py",
   "mimetype": "text/x-python",
   "name": "python",
   "nbconvert_exporter": "python",
   "pygments_lexer": "ipython3",
   "version": "3.11.9"
  }
 },
 "nbformat": 4,
 "nbformat_minor": 2
}
