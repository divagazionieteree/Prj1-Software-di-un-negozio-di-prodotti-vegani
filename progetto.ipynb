{
 "cells": [
  {
   "cell_type": "markdown",
   "metadata": {},
   "source": [
    "Software gestionale per negozio di prodotti vegani"
   ]
  },
  {
   "cell_type": "markdown",
   "metadata": {},
   "source": [
    "import class and libraries"
   ]
  },
  {
   "cell_type": "code",
   "execution_count": 59,
   "metadata": {},
   "outputs": [],
   "source": [
    "\n",
    "from prj_class import CommandsCRM\n",
    "import json as json\n"
   ]
  },
  {
   "cell_type": "markdown",
   "metadata": {},
   "source": [
    "Read .json files "
   ]
  },
  {
   "cell_type": "code",
   "execution_count": 60,
   "metadata": {},
   "outputs": [],
   "source": [
    "with open(\"wharehouse.json\") as json_file:\n",
    "  wharehouse_dict = json.load(json_file)\n",
    "  \n",
    "with open(\"sales.json\") as json_file:\n",
    "  sales_dict = json.load(json_file)\n"
   ]
  },
  {
   "cell_type": "code",
   "execution_count": null,
   "metadata": {},
   "outputs": [],
   "source": [
    "def aggiungi():\n",
    "        \n",
    "    \"\"\"\n",
    "    aggiungi un prodotto al magazzino\n",
    "    \"\"\"\n",
    "    product_dict = {\"product_name\": product_name, \"quantity\": quantity, \"purchase_prize\": purchase_price, \"sale_prize\": self.selling_price}        \n",
    "    wharehouse_dict.append(product_dict)\n",
    "        \n",
    "    return print(wharehouse_dict)\n",
    "    \n",
    "def elenca(): \n",
    "    \"\"\"\n",
    "    elenca i prodotto in magazzino\n",
    "    \"\"\"\n",
    "    return print(\"Hello World\")\n",
    "    \n",
    "def vendita(): \n",
    "    \"\"\"\n",
    "    registra una vendita effettuata\n",
    "    \"\"\"\n",
    "    return print(\"Hello World\")\n",
    "    \n",
    "def profitti(): \n",
    "    \"\"\"\n",
    "    mostra i profitti totali\n",
    "    \"\"\"\n",
    "    return print(\"Hello World\")\n",
    "    \n",
    "def aiuto(): \n",
    "    \"\"\"\n",
    "    mostra i possibili comandi\n",
    "    \"\"\"\n",
    "    list_aiuto = [\"I comandi disponibili sono i seguenti:\",\n",
    "                  \"aggiungi: aggiungi un prodotto al magazzino\",\n",
    "                  \"elenca: elenca i prodotto in magazzino\",\n",
    "                  \"vendita: registra una vendita effettuata\",\n",
    "                  \"profitti: mostra i profitti totali\",\n",
    "                  \"aiuto: mostra i possibili comandi\",\n",
    "                  \"chiudi: esci dal programma\"]\n",
    "    return print(list_aiuto)\n",
    "    \n",
    "def chiudi(): \n",
    "    \"\"\"\n",
    "    esci dal programma\n",
    "    \"\"\"\n",
    "    return print(\"Hello World\")"
   ]
  },
  {
   "cell_type": "code",
   "execution_count": null,
   "metadata": {},
   "outputs": [],
   "source": [
    "cmd = None\n",
    "\n",
    "while cmd!=\"chiudi\":\n",
    "\n",
    "  cmd = input(\"Inserisci un comando: \")\n",
    "\n",
    "  if cmd==\"vendita\":\n",
    "    # registra una vendita\n",
    "    vendita()\n",
    "\n",
    "  elif cmd==\"profitti\":\n",
    "    # mostra profitti netti e lordi\n",
    "    profitti()\n",
    "\n",
    "  elif cmd==\"aggiungi\":\n",
    "    # aggiungi un prodotto al magazzino\n",
    "    product_name = input(\"Nome del prodotto: \")\n",
    "    quantity = int(input(\"Quantità: \"))\n",
    "    purchase_price = float(input(\"Prezzo di acquisto: \"))\n",
    "    selling_price = float(input(\"Prezzo di vendita: \"))\n",
    "    aggiungi(product_name, quantity, purchase_price, selling_price, wharehouse_dict)\n",
    "\n",
    "  elif cmd==\"elenca\":\n",
    "    # elenca tutti i prodotti nel magazzino\n",
    "    elenca()\n",
    "\n",
    "  elif cmd==\"aiuto\":\n",
    "    # mostra i possibili comandi\n",
    "    aiuto()\n",
    "\n",
    "  elif cmd==\"chiudi\":\n",
    "    # mostra i possibili comandi\n",
    "    print(\"Arrivederci, alla prossima volta\")\n",
    "\n",
    "  else:\n",
    "    # mostra messaggio di aiuto\n",
    "    print(\"comando non valido\")\n",
    "    aiuto()"
   ]
  },
  {
   "cell_type": "markdown",
   "metadata": {},
   "source": [
    "Save in a .json file"
   ]
  },
  {
   "cell_type": "code",
   "execution_count": null,
   "metadata": {},
   "outputs": [],
   "source": [
    "wharehouse = json.dumps(wharehouse_dict)\n",
    "wharehouse_file = open(\"wharehouse.json\", 'w')\n",
    "wharehouse_file.write(wharehouse)\n",
    "\n",
    "sales = json.dumps(sales_dict)\n",
    "sales_file = open(\"sales.json\", 'w')\n",
    "sales_file.write(sales)"
   ]
  }
 ],
 "metadata": {
  "kernelspec": {
   "display_name": "Python 3",
   "language": "python",
   "name": "python3"
  },
  "language_info": {
   "codemirror_mode": {
    "name": "ipython",
    "version": 3
   },
   "file_extension": ".py",
   "mimetype": "text/x-python",
   "name": "python",
   "nbconvert_exporter": "python",
   "pygments_lexer": "ipython3",
   "version": "3.11.9"
  }
 },
 "nbformat": 4,
 "nbformat_minor": 2
}
